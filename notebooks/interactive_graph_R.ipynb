{
 "cells": [
  {
   "cell_type": "code",
   "execution_count": null,
   "id": "e9d1c3b7",
   "metadata": {},
   "outputs": [],
   "source": [
    "library(dplyr)\n",
    "library(readr)\n",
    "library(stringr)\n",
    "library(tidygraph)\n",
    "library(ggraph)\n",
    "library(igraph)\n",
    "library(ggiraph)\n",
    "library(here)"
   ]
  },
  {
   "cell_type": "code",
   "execution_count": null,
   "id": "dc1e3414",
   "metadata": {},
   "outputs": [],
   "source": [
    "# Load the graph\n",
    "childcare  <-\n",
    "  read_csv(here(\"./data/raw/structural_network_adjacency_list_20190301.csv\"),\n",
    "           col_types = cols(\n",
    "             source_base_path = col_character(),\n",
    "             sink_base_path = col_character(),\n",
    "             link_type = col_character()\n",
    "           )) %>%\n",
    "  distinct() %>%\n",
    "  filter(str_detect(paste(source_base_path, sink_base_path), fixed(\"childcare\"))) %>%\n",
    "  filter(str_detect(paste(sink_base_path), fixed(\"childcare\"))) %>%\n",
    "  as_tbl_graph() %>%\n",
    "  activate(nodes) %>%\n",
    "  mutate(base_name = str_remove(name, \"[\\\\?#].*$\")) %>%\n",
    "  mutate(base_name = str_remove(base_name, \"^.*\\\\/\"))"
   ]
  },
  {
   "cell_type": "code",
   "execution_count": null,
   "id": "0ab38535",
   "metadata": {},
   "outputs": [],
   "source": [
    "# Use the largest component\n",
    "childcare_main <-\n",
    "  childcare %>%\n",
    "  mutate(group = group_components(type = \"weak\")) %>%\n",
    "  group_by(group) %>%\n",
    "  mutate(group_size = n()) %>%\n",
    "  ungroup() %>%\n",
    "  filter(group_size == max(group_size))"
   ]
  },
  {
   "cell_type": "code",
   "execution_count": null,
   "id": "fcabbb0a",
   "metadata": {},
   "outputs": [],
   "source": [
    "# Calculate communities and centrality\n",
    "childcare_plot_data <-\n",
    "  childcare_main %>%\n",
    "  activate(\"nodes\") %>%\n",
    "  mutate(group = group_spinglass(spins = 5)) %>%\n",
    "  mutate(centrality = centrality_degree(mode = \"out\")) %>%\n",
    "  group_by(group) %>%\n",
    "  mutate(is_central = centrality == max(centrality)) %>%\n",
    "  ungroup()"
   ]
  },
  {
   "cell_type": "code",
   "execution_count": null,
   "id": "9943518e",
   "metadata": {},
   "outputs": [],
   "source": [
    "p <- \n",
    "  childcare_plot_data %>%\n",
    "  ggraph(layout = \"nicely\") +          # fr and kk are okay too\n",
    "  geom_point_interactive(aes(x, y, \n",
    "     tooltip = name, \n",
    "     colour = as.character(group),\n",
    "     alpha = as.integer(is_central)),\n",
    " size = 10) +\n",
    "  geom_edge_link(arrow = grid::arrow(length = unit(0.05, \"inches\"), type = \"closed\"),\n",
    "    end_cap = circle(0.4, 'cm'),\n",
    "    start_cap = circle(0.4, 'cm')) +\n",
    "  geom_node_text(aes(label = centrality)) +\n",
    "  scale_alpha(range = c(0.2, 1)) +\n",
    "  theme_graph() +\n",
    "  nowt()"
   ]
  },
  {
   "cell_type": "code",
   "execution_count": null,
   "id": "40fb03c6",
   "metadata": {},
   "outputs": [],
   "source": [
    "girafe(ggobj = p, width_svg = 10, height_svg = 10,\n",
    "       options = list(opts_sizing(rescale = FALSE)))"
   ]
  }
 ],
 "metadata": {
  "language_info": {
   "codemirror_mode": "r",
   "file_extension": ".r",
   "mimetype": "text/x-r-source",
   "name": "R",
   "pygments_lexer": "r",
   "version": "4.1.1"
  }
 },
 "nbformat": 4,
 "nbformat_minor": 5
}
