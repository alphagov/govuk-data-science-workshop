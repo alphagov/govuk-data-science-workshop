{
 "cells": [
  {
   "cell_type": "markdown",
   "metadata": {},
   "source": [
    "<p><img alt=\"Colaboratory logo\" height=\"45px\" src=\"/img/colab_favicon.ico\" align=\"left\" hspace=\"10px\" vspace=\"0px\"></p>\n",
    "\n",
    "<h1>What is Colaboratory?</h1>\n",
    "\n",
    "Colaboratory, or 'Colab' for short, allows you to write and execute Python in your browser, with \n",
    "- Zero configuration required\n",
    "- Free access to GPUs\n",
    "- Easy sharing\n",
    "\n",
    "Whether you're a <strong>student</strong>, a <strong>data scientist</strong> or an <strong>AI researcher</strong>, Colab can make your work easier. Watch <a href=\"https://www.youtube.com/watch?v=inN8seMm7UI\">Introduction to Colab</a> to find out more, or just get started below!"
   ]
  },
  {
   "cell_type": "markdown",
   "metadata": {},
   "source": [
    "## <strong>Getting started</strong>\n",
    "\n",
    "The document that you are reading is not a static web page, but an interactive environment called a <strong>Colab notebook</strong> that lets you write and execute code.\n",
    "\n",
    "For example, here is a <strong>code cell</strong> with a short Python script that computes a value, stores it in a variable and prints the result:"
   ]
  },
  {
   "cell_type": "code",
   "execution_count": null,
   "metadata": {},
   "outputs": [],
   "source": [
    "seconds_in_a_day = 24 * 60 * 60\n",
    "seconds_in_a_day"
   ]
  },
  {
   "cell_type": "markdown",
   "metadata": {},
   "source": [
    "To execute the code in the above cell, select it with a click and then either press the play button to the left of the code, or use the keyboard shortcut 'Command/Ctrl+Enter'. To edit the code, just click the cell and start editing.\n",
    "\n",
    "Variables that you define in one cell can later be used in other cells:"
   ]
  },
  {
   "cell_type": "code",
   "execution_count": null,
   "metadata": {},
   "outputs": [],
   "source": [
    "seconds_in_a_week = 7 * seconds_in_a_day\n",
    "seconds_in_a_week"
   ]
  },
  {
   "cell_type": "markdown",
   "metadata": {},
   "source": [
    "Colab notebooks allow you to combine <strong>executable code</strong> and <strong>rich text</strong> in a single document, along with <strong>images</strong>, <strong>HTML</strong>, <strong>LaTeX</strong> and more. When you create your own Colab notebooks, they are stored in your Google Drive account. You can easily share your Colab notebooks with co-workers or friends, allowing them to comment on your notebooks or even edit them. To find out more, see <a href=\"/notebooks/basic_features_overview.ipynb\">Overview of Colab</a>. To create a new Colab notebook you can use the File menu above, or use the following link: <a href=\"http://colab.research.google.com#create=true\">Create a new Colab notebook</a>.\n",
    "\n",
    "Colab notebooks are Jupyter notebooks that are hosted by Colab. To find out more about the Jupyter project, see <a href=\"https://www.jupyter.org\">jupyter.org</a>."
   ]
  },
  {
   "cell_type": "markdown",
   "metadata": {},
   "source": [
    "## Data science\n",
    "\n",
    "With Colab you can harness the full power of popular Python libraries to analyse and visualise data. The code cell below loads in various Python libraries to help us solve some problems that other people have already solved! Here we call a few useful libraries with `import` and even rename some to shorter names, such as `pandas` as `pd`."
   ]
  },
  {
   "cell_type": "code",
   "execution_count": null,
   "metadata": {},
   "outputs": [],
   "source": [
    "import json\n",
    "import os\n",
    "from ast import literal_eval\n",
    "\n",
    "import pandas as pd\n",
    "import requests\n",
    "from sklearn.metrics import jaccard_score\n",
    "\n",
    "# https://stackoverflow.com/questions/25351968/how-to-display-full-non-truncated-dataframe-information-in-html-when-convertin\n",
    "pd.set_option(\"display.max_colwidth\", None)"
   ]
  },
  {
   "cell_type": "markdown",
   "metadata": {},
   "source": [
    "We can interact with GOV.UK search programatically (i.e. we don't have to manually type it into the search bar on GOV.UK, we can use a computer instead to run a search for us and pass us the results!) using the GOV.UK search API. \n",
    "\n",
    "What does API mean?\n",
    "\n",
    "These [docs](https://docs.publishing.service.gov.uk/apis/search/search-api.html) provide a bit more background.\n",
    "\n",
    "Below we assign some variables, go through this example and then try changing some of these arguments. What happens when you run the code chunk after this?"
   ]
  },
  {
   "cell_type": "code",
   "execution_count": null,
   "metadata": {},
   "outputs": [],
   "source": [
    "# inputs to modify api response\n",
    "search_term = \"tax\"\n",
    "top_n_results = 5"
   ]
  },
  {
   "cell_type": "code",
   "execution_count": null,
   "metadata": {},
   "outputs": [],
   "source": [
    "# this blog post might help you understand this https://dataingovernment.blog.gov.uk/2016/05/26/use-the-search-api-to-get-useful-information-about-gov-uk-content/\n",
    "resp = requests.get(\n",
    "    (\n",
    "        \"https://www.gov.uk/api/search.json?q=\"\n",
    "        + search_term\n",
    "        + \"&count=\"\n",
    "        + str(top_n_results)\n",
    "        + \"&fields=title\"\n",
    "    )\n",
    ")\n",
    "if resp.status_code != 200:\n",
    "    raise ApiError(\"GET /tasks/ {}\".format(resp.status_code))\n",
    "\n",
    "\n",
    "data = json.loads(resp.content.decode(\"utf-8\"))\n",
    "pd.DataFrame.from_records(data[\"results\"], columns=[\"_id\", \"combined_score\"])"
   ]
  },
  {
   "cell_type": "markdown",
   "metadata": {},
   "source": [
    "Let's turn this into a function for ease of use"
   ]
  },
  {
   "cell_type": "code",
   "execution_count": null,
   "metadata": {},
   "outputs": [],
   "source": [
    "def govuk_search(search_term=\"tax\", top_n_results=5):\n",
    "    \"\"\"Query the GOV.UK search API\n",
    "\n",
    "    :Usage::\n",
    "        >>> df = govuk_search(search_term = 'tax', top_n_results = 5)\n",
    "\n",
    "    :param search_term: Query str to search for.\n",
    "    :param top_n_results: int\n",
    "    \"\"\"\n",
    "    resp = requests.get(\n",
    "        (\n",
    "            \"https://www.gov.uk/api/search.json?q=\"\n",
    "            + search_term\n",
    "            + \"&count=\"\n",
    "            + str(top_n_results)\n",
    "            + \"&fields=content_id\"\n",
    "        )\n",
    "    )\n",
    "    if resp.status_code != 200:\n",
    "        raise ApiError(\"GET /tasks/ {}\".format(resp.status_code))\n",
    "\n",
    "    data = json.loads(resp.content.decode(\"utf-8\"))\n",
    "\n",
    "    df = pd.DataFrame.from_records(data[\"results\"], columns=[\"_id\", \"combined_score\"])\n",
    "\n",
    "    return df"
   ]
  },
  {
   "cell_type": "code",
   "execution_count": null,
   "metadata": {},
   "outputs": [],
   "source": [
    "df = govuk_search(\"universal credit\", 3)\n",
    "df"
   ]
  },
  {
   "cell_type": "markdown",
   "metadata": {},
   "source": [
    "What if a user doesn't know the name \"universal credit\", so they search instead for \"benefits\".  Do they get similar results?"
   ]
  },
  {
   "cell_type": "code",
   "execution_count": null,
   "metadata": {},
   "outputs": [],
   "source": [
    "df = govuk_search(\"benefits\", 3)\n",
    "df"
   ]
  },
  {
   "cell_type": "markdown",
   "metadata": {},
   "source": [
    "## Jaccard: how similar are two sets of search results?\n",
    "\n",
    "### References\n",
    "\n",
    "1. [Wikipedia](https://en.wikipedia.org/wiki/Jaccard_index)\n",
    "2. [StackOverflow](https://stackoverflow.com/a/47016862/937932)\n",
    "\n",
    "### Definition\n",
    "\n",
    "Jaccard similarity is the amount of overlap between two sets of items.\n",
    "\n",
    "Here is the mathematical notation.\n",
    "\n",
    "$$J(A,B) = {{|A \\cap B|}\\over{|A \\cup B|}} = {{|A \\cap B|}\\over{|A| + |B| - |A \\cap B|}}$$\n",
    "\n",
    "The first part, $J(A,B)$, means \"Do a calculation on two sets, called $A$ and $B$.\"\n",
    "\n",
    "The middle part, ${{|A \\cap B|}\\over{|A \\cup B|}}$, means \"Count the number of items that appear in both $A$ and $B$, and divide that by the number of items that only appear in $A$ or $B$ but not both.\"\n",
    "\n",
    "The symbol $\\cap$ means \"intersection\", which is the items that are in both $A$ and $B$.  The symbol $\\cup$ means \"union\", the items that are in either $A$ or $B$ or both.\n",
    "\n",
    "The final part, ${{|A \\cap B|}\\over{|A| + |B| - |A \\cap B|}}$, is another way to write the middle part.  It shows a way to calculate ${|A \\cup B|}$, and it means \"Count the number of items in A, and the number of items in B, add them, and then subtract the number of items that are in both A and B.\"\n",
    "\n",
    "Let's write code to do this calculation."
   ]
  },
  {
   "cell_type": "code",
   "execution_count": null,
   "metadata": {},
   "outputs": [],
   "source": [
    "set_1 = set([\"c\", \"a\", \"t\"])\n",
    "set_2 = set([\"m\", \"a\", \"t\"])\n",
    "\n",
    "intersection = set_1 & set_2\n",
    "union = set_1 | set_2\n",
    "\n",
    "jaccard = float(len(intersection)) / len(union)\n",
    "\n",
    "jaccard"
   ]
  },
  {
   "cell_type": "markdown",
   "metadata": {},
   "source": [
    "Check that the result 2.0 is correct, by doing the calculation by hand.\n",
    "\n",
    "* **Intersection**: letters 'a' and 't' are in both sets.  So the intersection is 2 (two letters).\n",
    "* **Union**: there are four letters in total 'c', 'a', 't' and 'm'.  Each letter is counted only once, even though letters 'a' and 't' appear twice each.\n",
    "\n",
    "The Jaccard index is the size of the intersection, 2, divided by the size of the union, 4.  The result is 0.5, as we calculated."
   ]
  },
  {
   "cell_type": "markdown",
   "metadata": {},
   "source": [
    "Let's make this into a function too."
   ]
  },
  {
   "cell_type": "code",
   "execution_count": null,
   "metadata": {},
   "outputs": [],
   "source": [
    "def jaccard(set_1, set_2):\n",
    "    # Ensure that set_1 and set_2 are python set objects, not merely list objects\n",
    "    set_1 = set(set_1)\n",
    "    set_2 = set(set_2)\n",
    "\n",
    "    # Calculate the Jaccard index\n",
    "    return float(len(set_1 & set_2) / len(set_1 | set_2))"
   ]
  },
  {
   "cell_type": "code",
   "execution_count": null,
   "metadata": {},
   "outputs": [],
   "source": [
    "jaccard([\"c\", \"a\", \"r\"], [\"m\", \"a\", \"t\"])"
   ]
  },
  {
   "cell_type": "markdown",
   "metadata": {},
   "source": [
    "Try calculating the Jaccard index of different sets.  For example, change `['c', 'a', 't']` to `'['c', 'a', 't', 's']` or `['c', 'a', 'r']`.  Can you get a score above 1?  What about a negative score?"
   ]
  },
  {
   "cell_type": "markdown",
   "metadata": {},
   "source": [
    "Now we can easily compare the results of different GOV.UK search queries.  Try to trick the system: what about plurals, or misspellings, do they return similar results?"
   ]
  },
  {
   "cell_type": "code",
   "execution_count": null,
   "metadata": {},
   "outputs": [],
   "source": [
    "jaccard(govuk_search(\"benifit\", 10)[\"_id\"], govuk_search(\"benefits\", 10)[\"_id\"])"
   ]
  },
  {
   "cell_type": "markdown",
   "metadata": {},
   "source": [
    "## More resources\n",
    "\n",
    "### WE SHOULD ADD GOV.UK DS STUFF HERE\n",
    "\n",
    "### Working with notebooks in Colab\n",
    "- [Overview of Colaboratory](/notebooks/basic_features_overview.ipynb)\n",
    "- [Guide to markdown](/notebooks/markdown_guide.ipynb)\n",
    "- [Importing libraries and installing dependencies](/notebooks/snippets/importing_libraries.ipynb)\n",
    "- [Saving and loading notebooks in GitHub](https://colab.research.google.com/github/googlecolab/colabtools/blob/master/notebooks/colab-github-demo.ipynb)\n",
    "- [Interactive forms](/notebooks/forms.ipynb)\n",
    "- [Interactive widgets](/notebooks/widgets.ipynb)\n",
    "- <img src=\"/img/new.png\" height=\"20px\" align=\"left\" hspace=\"4px\" alt=\"New\"></img>\n",
    " [TensorFlow 2 in Colab](/notebooks/tensorflow_version.ipynb)\n",
    "\n",
    "<a name=\"working-with-data\"></a>\n",
    "### Working with data\n",
    "- [Loading data: Drive, Sheets and Google Cloud Storage](/notebooks/io.ipynb) \n",
    "- [Charts: visualising data](/notebooks/charts.ipynb)\n",
    "- [Getting started with BigQuery](/notebooks/bigquery.ipynb)\n",
    "\n",
    "### Machine learning crash course\n",
    "These are a few of the notebooks from Google's online machine learning course. See the <a href=\"https://developers.google.com/machine-learning/crash-course/\">full course website</a> for more.\n",
    "- [Intro to Pandas](/notebooks/mlcc/intro_to_pandas.ipynb)\n",
    "- [TensorFlow concepts](/notebooks/mlcc/tensorflow_programming_concepts.ipynb)\n",
    "\n",
    "<a name=\"using-accelerated-hardware\"></a>\n",
    "### Using accelerated hardware\n",
    "- [TensorFlow with GPUs](/notebooks/gpu.ipynb)\n",
    "- [TensorFlow with TPUs](/notebooks/tpu.ipynb)"
   ]
  },
  {
   "cell_type": "markdown",
   "metadata": {},
   "source": [
    "<a name=\"machine-learning-examples\"></a>\n",
    "\n",
    "## Machine learning examples\n",
    "\n",
    "To see end-to-end examples of the interactive machine-learning analyses that Colaboratory makes possible, take a look at these tutorials using models from <a href=\"https://tfhub.dev\">TensorFlow Hub</a>.\n",
    "\n",
    "A few featured examples:\n",
    "\n",
    "- <a href=\"https://tensorflow.org/hub/tutorials/tf2_image_retraining\">Retraining an Image Classifier</a>: Build a Keras model on top of a pre-trained image classifier to distinguish flowers.\n",
    "- <a href=\"https://tensorflow.org/hub/tutorials/tf2_text_classification\">Text Classification</a>: Classify IMDB film reviews as either <em>positive</em> or <em>negative</em>.\n",
    "- <a href=\"https://tensorflow.org/hub/tutorials/tf2_arbitrary_image_stylization\">Style Transfer</a>: Use deep learning to transfer style between images.\n",
    "- <a href=\"https://tensorflow.org/hub/tutorials/retrieval_with_tf_hub_universal_encoder_qa\">Multilingual Universal Sentence Encoder Q&amp;A</a>: Use a machine-learning model to answer questions from the SQuAD dataset.\n",
    "- <a href=\"https://tensorflow.org/hub/tutorials/tweening_conv3d\">Video Interpolation</a>: Predict what happened in a video between the first and the last frame.\n"
   ]
  }
 ],
 "metadata": {},
 "nbformat": 4,
 "nbformat_minor": 0
}
