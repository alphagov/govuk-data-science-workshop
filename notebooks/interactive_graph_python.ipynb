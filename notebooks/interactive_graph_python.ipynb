{
 "cells": [
  {
   "cell_type": "code",
   "execution_count": null,
   "id": "bc08e407",
   "metadata": {
    "tags": [
     "{",
     "\"tags\":",
     "[",
     "\"hide-input\"",
     "]",
     "}"
    ]
   },
   "outputs": [],
   "source": [
    "import os\n",
    "\n",
    "import igraph as ig\n",
    "import matplotlib.pyplot as plt\n",
    "import pandas as pd\n",
    "from igraph import Graph, VertexSeq"
   ]
  },
  {
   "cell_type": "code",
   "execution_count": null,
   "id": "070d584e",
   "metadata": {},
   "outputs": [],
   "source": [
    "# Read the name of the edgelist dataset file from an environment variable.\n",
    "DIR_DATA_RAW = os.getenv(\"DIR_DATA_RAW\")\n",
    "print(DIR_DATA_RAW)"
   ]
  },
  {
   "cell_type": "code",
   "execution_count": null,
   "id": "59f41cae",
   "metadata": {},
   "outputs": [],
   "source": [
    "# Load the edgelist dataset into a pandas data frame\n",
    "edges = pd.read_csv(DIR_DATA_RAW + \"/structural_network_adjacency_list_20190301.csv\")\n",
    "edges.drop_duplicates(inplace=True)"
   ]
  },
  {
   "cell_type": "code",
   "execution_count": null,
   "id": "d633c9a3",
   "metadata": {},
   "outputs": [],
   "source": [
    "# Filter for pages whose URLs contain the word 'childcare'\n",
    "search_string = \"childcare\"\n",
    "childcare_edges = edges[\n",
    "    (edges.source_base_path.str.contains(search_string))\n",
    "    | (edges.sink_base_path.str.contains(search_string))\n",
    "]"
   ]
  },
  {
   "cell_type": "code",
   "execution_count": null,
   "id": "43f26360",
   "metadata": {},
   "outputs": [],
   "source": [
    "# Construct a graph object from the edges\n",
    "g = Graph.DataFrame(childcare_edges, directed=True)"
   ]
  },
  {
   "cell_type": "code",
   "execution_count": null,
   "id": "96dea12b",
   "metadata": {},
   "outputs": [],
   "source": [
    "# The graph has one big component, and many small ones\n",
    "# that are disconnected from the big one.\n",
    "# Keep only the largest component.\n",
    "components = g.clusters(mode=\"weak\")\n",
    "childcare = components.giant()"
   ]
  },
  {
   "cell_type": "code",
   "execution_count": null,
   "id": "a91077a6",
   "metadata": {},
   "outputs": [],
   "source": [
    "# Detect communities within the graph.  The spinglass\n",
    "# algorithm allows for a maximum number of communities\n",
    "# to be set.  It might detect fewer than this, but it\n",
    "# won't detect more.  Every node (every page) will be\n",
    "# assigned to exactly one community.\n",
    "communities = childcare.community_spinglass(spins=5)"
   ]
  },
  {
   "cell_type": "code",
   "execution_count": null,
   "id": "5f58dc7e",
   "metadata": {},
   "outputs": [],
   "source": [
    "# Calculate the degree of each node (each page).  The\n",
    "# degree is the number of edges into and out of the\n",
    "# node.\n",
    "degrees = [v.degree(mode=\"out\") for v in VertexSeq(childcare)]"
   ]
  },
  {
   "cell_type": "markdown",
   "id": "8aa5fcc1",
   "metadata": {},
   "source": [
    "## Visualise in igraph\n",
    "\n",
    "* Colour: community\n",
    "* Label: degree\n",
    "* Tooltip: not supported"
   ]
  },
  {
   "cell_type": "code",
   "execution_count": null,
   "id": "778b59fe",
   "metadata": {},
   "outputs": [],
   "source": [
    "pal = ig.drawing.colors.ClusterColoringPalette(len(communities))\n",
    "childcare.vs[\"color\"] = pal.get_many(communities.membership)\n",
    "ig.plot(childcare, vertex_label=degrees, layout=\"fruchterman_reingold\")"
   ]
  },
  {
   "cell_type": "markdown",
   "id": "5be16bf6",
   "metadata": {},
   "source": [
    "### Problems with igraph\n",
    "\n",
    "No tooltip to show which URL is represented by each node."
   ]
  },
  {
   "cell_type": "markdown",
   "id": "f7112fc0",
   "metadata": {},
   "source": [
    "## Try bokeh + networkx\n",
    "\n",
    "The bokey library does interactive visualisations (with tooltips).\n",
    "\n",
    "But bokeh can't deal with igraphs, only networkx\n",
    "\n",
    "And networkx doesn't implement spinglass\n",
    "\n",
    "So the route is igraph > networkx > bokeh\n"
   ]
  },
  {
   "cell_type": "code",
   "execution_count": null,
   "id": "f28f54b4",
   "metadata": {},
   "outputs": [],
   "source": [
    "import networkx as nx\n",
    "from bokeh.io import output_notebook, save, show\n",
    "from bokeh.models import Circle, ColumnDataSource, MultiLine, Range1d\n",
    "from bokeh.plotting import figure, from_networkx\n",
    "from bokeh.transform import factor_cmap\n",
    "\n",
    "# Make bokeh work in jupyter\n",
    "output_notebook()"
   ]
  },
  {
   "cell_type": "code",
   "execution_count": null,
   "id": "44d1cfff",
   "metadata": {},
   "outputs": [],
   "source": [
    "# Choose a title\n",
    "title = \"GOV.UK childcare pages graph\"\n",
    "\n",
    "# Display the URL in the tooltip\n",
    "HOVER_TOOLTIPS = [(\"Page\", \"@name\")]\n",
    "\n",
    "# Create a plot — set dimensions, toolbar, and title\n",
    "plot = figure(\n",
    "    tooltips=HOVER_TOOLTIPS,\n",
    "    tools=\"pan,wheel_zoom,save,reset\",\n",
    "    active_scroll=\"wheel_zoom\",\n",
    "    x_range=Range1d(-10.1, 10.1),\n",
    "    y_range=Range1d(-10.1, 10.1),\n",
    "    title=title,\n",
    ")\n",
    "\n",
    "# Convert the igraph object to networkx\n",
    "childcare_nx = childcare.to_networkx()\n",
    "\n",
    "# Create a network graph object with spring layout, supposedly the same algorithm as igraph Fruchterman--Reingold\n",
    "# https://networkx.github.io/documentation/networkx-1.9/reference/generated/networkx.drawing.layout.spring_layout.html\n",
    "network_graph = from_networkx(childcare_nx, nx.spring_layout, scale=10, center=(0, 0))\n",
    "\n",
    "# Set node size and color\n",
    "network_graph.node_renderer.glyph = Circle(size=15, fill_color=\"skyblue\")\n",
    "\n",
    "# Set edge opacity and width\n",
    "network_graph.edge_renderer.glyph = MultiLine(line_alpha=0.5, line_width=1)\n",
    "\n",
    "# Add network graph to the plot\n",
    "plot.renderers.append(network_graph)\n",
    "show(plot)"
   ]
  },
  {
   "cell_type": "markdown",
   "id": "81673393",
   "metadata": {},
   "source": [
    "### Problems with bokeh + networkx\n",
    "\n",
    "1. The networkx spring layout is worse than the igraph spring layout, even though they supposedly both use the Fruchterman--Reingold algorithm.\n",
    "2. I don't know how to colour the bokeh visualisation by community."
   ]
  }
 ],
 "metadata": {
  "language_info": {
   "codemirror_mode": {
    "name": "ipython",
    "version": 3
   },
   "file_extension": ".py",
   "mimetype": "text/x-python",
   "name": "python",
   "nbconvert_exporter": "python",
   "pygments_lexer": "ipython3",
   "version": "3.9.7"
  }
 },
 "nbformat": 4,
 "nbformat_minor": 5
}
