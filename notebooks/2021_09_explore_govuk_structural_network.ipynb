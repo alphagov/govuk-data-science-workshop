{
 "cells": [
  {
   "cell_type": "code",
   "execution_count": null,
   "id": "9617ac31",
   "metadata": {},
   "outputs": [],
   "source": [
    "# Based on notesbooks/2021_09_explore_govuk_structural_network.R\n",
    "import os\n",
    "\n",
    "import igraph as ig\n",
    "import matplotlib.pyplot as plt\n",
    "import pandas as pd\n",
    "from igraph import Graph, VertexSeq"
   ]
  },
  {
   "cell_type": "code",
   "execution_count": null,
   "id": "070d584e",
   "metadata": {},
   "outputs": [],
   "source": [
    "DIR_DATA_RAW = os.getenv(\"DIR_DATA_RAW\")\n",
    "print(DIR_DATA_RAW)"
   ]
  },
  {
   "cell_type": "code",
   "execution_count": null,
   "id": "59f41cae",
   "metadata": {},
   "outputs": [],
   "source": [
    "edges = pd.read_csv(DIR_DATA_RAW + \"/structural_network_adjacency_list_20190301.csv\")"
   ]
  },
  {
   "cell_type": "code",
   "execution_count": null,
   "id": "d633c9a3",
   "metadata": {},
   "outputs": [],
   "source": [
    "search_string = \"brexit\"\n",
    "brexit_edges = edges[\n",
    "    (edges.source_base_path.str.contains(search_string))\n",
    "    & (edges.sink_base_path.str.contains(search_string))\n",
    "]"
   ]
  },
  {
   "cell_type": "code",
   "execution_count": null,
   "id": "43f26360",
   "metadata": {},
   "outputs": [],
   "source": [
    "g = Graph.DataFrame(brexit_edges, directed=True)"
   ]
  },
  {
   "cell_type": "code",
   "execution_count": null,
   "id": "0c7cb294",
   "metadata": {},
   "outputs": [],
   "source": [
    "vs = VertexSeq(g)\n",
    "non_brexit_vs_ids = [idx for idx, v in enumerate(vs) if \"brexit\" not in v[\"name\"]]\n",
    "g.delete_vertices(non_brexit_vs_ids)"
   ]
  },
  {
   "cell_type": "code",
   "execution_count": null,
   "id": "e852a3f3",
   "metadata": {},
   "outputs": [],
   "source": [
    "len(VertexSeq(g))"
   ]
  },
  {
   "cell_type": "code",
   "execution_count": null,
   "id": "96dea12b",
   "metadata": {},
   "outputs": [],
   "source": [
    "components = g.clusters(mode=\"weak\")\n",
    "brexit = components.giant()"
   ]
  },
  {
   "cell_type": "code",
   "execution_count": null,
   "id": "a91077a6",
   "metadata": {},
   "outputs": [],
   "source": [
    "clusters = brexit.community_spinglass(spins=5)\n",
    "pal = ig.drawing.colors.ClusterColoringPalette(len(clusters))\n",
    "brexit.vs[\"color\"] = pal.get_many(clusters.membership)\n",
    "ig.plot(brexit)"
   ]
  },
  {
   "cell_type": "code",
   "execution_count": null,
   "id": "5f58dc7e",
   "metadata": {},
   "outputs": [],
   "source": [
    "degrees = [v.degree() for v in VertexSeq(brexit)]"
   ]
  }
 ],
 "metadata": {
  "language_info": {
   "codemirror_mode": {
    "name": "ipython",
    "version": 3
   },
   "file_extension": ".py",
   "mimetype": "text/x-python",
   "name": "python",
   "nbconvert_exporter": "python",
   "pygments_lexer": "ipython3",
   "version": "3.9.7"
  }
 },
 "nbformat": 4,
 "nbformat_minor": 5
}
