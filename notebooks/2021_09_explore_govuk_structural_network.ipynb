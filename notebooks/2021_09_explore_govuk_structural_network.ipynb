{
 "cells": [
  {
   "cell_type": "markdown",
   "id": "0fd5fb24",
   "metadata": {},
   "source": [
    "# What is a Jupyter notebook?\n",
    "\n",
    "A Jupyter notebook is a way for you write and execute Python in your web browser.  It's easy to interleave text, code, and the outputs of code.  This makes notebooks useful as a kind of interactive textbook.\n",
    "\n",
    "## Getting started\n",
    "\n",
    "The document that you are reading is not a static web page, but an interactive environment called a \"Jupyter notebook\" that lets you write and execute code.\n",
    "\n",
    "For example, below is a code cell with a short Python script that computes a value, stores it in a variable and prints the result."
   ]
  },
  {
   "cell_type": "code",
   "execution_count": null,
   "id": "daf16c4c",
   "metadata": {},
   "outputs": [],
   "source": [
    "seconds_in_a_day = 24 * 60 * 60\n",
    "seconds_in_a_day"
   ]
  },
  {
   "cell_type": "markdown",
   "id": "4fb428e7",
   "metadata": {},
   "source": [
    "To execute the code in the above cell, select it with a click and then either press the play button to the left of the code, or use the keyboard shortcut 'Shift+Enter'. To edit the code, just click the cell and start editing.\n",
    "\n",
    "Variables that you define in one cell can later be used in other cells:"
   ]
  },
  {
   "cell_type": "code",
   "execution_count": null,
   "id": "1c541b6a",
   "metadata": {},
   "outputs": [],
   "source": [
    "seconds_in_a_week = 7 * seconds_in_a_day\n",
    "seconds_in_a_week"
   ]
  },
  {
   "cell_type": "markdown",
   "id": "cee4420b",
   "metadata": {},
   "source": [
    "Jupyter notebooks allow you to combine executable code and rich text in a single document, along with images, HTML and more. To find out more about the Jupyter project, see [jupyter.org](https://www.jupyter.org)."
   ]
  },
  {
   "cell_type": "markdown",
   "id": "7ae965fb",
   "metadata": {},
   "source": [
    "## Data science\n",
    "\n",
    "With Jupyter you can harness the full power of popular Python libraries to analyse and visualise data.\n",
    "\n",
    "Most of the Python code has been hidden from view, because we're not teaching Python in this workshop.  But if you are interested in seeing the code, then explore it on [GitHub](https://github.com/alphagov/govuk-data-science-workshop).\n",
    "\n",
    "Run the two cells "
   ]
  },
  {
   "cell_type": "code",
   "execution_count": null,
   "id": "8c599b3f",
   "metadata": {},
   "outputs": [],
   "source": [
    "import os\n",
    "\n",
    "DIR_SRC_UTILS = os.getenv(\"DIR_SRC_UTILS\")\n",
    "execfile(DIR_SRC_UTILS + \"/setup.py\")"
   ]
  },
  {
   "cell_type": "code",
   "execution_count": null,
   "id": "c85b3b50",
   "metadata": {},
   "outputs": [],
   "source": [
    "fig.show()"
   ]
  }
 ],
 "metadata": {
  "language_info": {
   "codemirror_mode": {
    "name": "ipython",
    "version": 3
   },
   "file_extension": ".py",
   "mimetype": "text/x-python",
   "name": "python",
   "nbconvert_exporter": "python",
   "pygments_lexer": "ipython3",
   "version": "3.9.7"
  }
 },
 "nbformat": 4,
 "nbformat_minor": 5
}
