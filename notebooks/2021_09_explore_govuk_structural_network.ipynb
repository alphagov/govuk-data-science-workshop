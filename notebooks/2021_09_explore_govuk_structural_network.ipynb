{
 "cells": [
  {
   "cell_type": "markdown",
   "id": "0fd5fb24",
   "metadata": {},
   "source": [
    "# What is a Jupyter notebook?\n",
    "\n",
    "A Jupyter notebook is a way for you write and execute Python in your web browser.  It's easy to interleave text, code, and the outputs of code.  This makes notebooks useful as a kind of interactive textbook.\n",
    "\n",
    "## Getting started\n",
    "\n",
    "The document that you are reading is not a static web page, but an interactive environment called a \"Jupyter notebook\" that lets you write and execute code.\n",
    "\n",
    "For example, below is a code cell with a short Python script that computes a value, stores it in a variable and prints the result."
   ]
  },
  {
   "cell_type": "code",
   "execution_count": null,
   "id": "daf16c4c",
   "metadata": {},
   "outputs": [],
   "source": [
    "seconds_in_a_day = 24 * 60 * 60\n",
    "seconds_in_a_day"
   ]
  },
  {
   "cell_type": "markdown",
   "id": "4fb428e7",
   "metadata": {},
   "source": [
    "To execute the code in the above cell, select it with a click and then either press the play button to the left of the code, or use the keyboard shortcut 'Shift+Enter'. To edit the code, just click the cell and start editing.\n",
    "\n",
    "Variables that you define in one cell can later be used in other cells:"
   ]
  },
  {
   "cell_type": "code",
   "execution_count": null,
   "id": "1c541b6a",
   "metadata": {},
   "outputs": [],
   "source": [
    "seconds_in_a_week = 7 * seconds_in_a_day\n",
    "seconds_in_a_week"
   ]
  },
  {
   "cell_type": "markdown",
   "id": "cee4420b",
   "metadata": {},
   "source": [
    "Jupyter notebooks allow you to combine executable code and rich text in a single document, along with images, HTML and more. To find out more about the Jupyter project, see [jupyter.org](https://www.jupyter.org)."
   ]
  },
  {
   "cell_type": "markdown",
   "id": "7ae965fb",
   "metadata": {},
   "source": [
    "## GOV.UK as a network\n",
    "\n",
    "This section visualises part of GOV.UK as a network of pages, linked to each other.\n",
    "\n",
    "Most of the Python code has been hidden from view, because we're not teaching Python in this workshop.  But if you are interested in seeing the code, then explore it on [GitHub](https://github.com/alphagov/govuk-data-science-workshop).\n",
    "\n",
    "Run the two cells below (shift + enter).  Try changing the search term, checkbox, radio buttons and community filter and then run the second cell again to see how the network visualisation changes."
   ]
  },
  {
   "cell_type": "code",
   "execution_count": null,
   "id": "8c599b3f",
   "metadata": {},
   "outputs": [],
   "source": [
    "import os\n",
    "\n",
    "DIR_SRC_UTILS = os.getenv(\"DIR_SRC_UTILS\")\n",
    "execfile(DIR_SRC_UTILS + \"/setup.py\")"
   ]
  },
  {
   "cell_type": "code",
   "execution_count": null,
   "id": "c85b3b50",
   "metadata": {},
   "outputs": [],
   "source": [
    "community_graph(\n",
    "    edges,\n",
    "    search_term=search_term.value,\n",
    "    display_centrality=display_centrality.value,\n",
    "    community_algorithm=algorithm.value,\n",
    "    community_filter=community_filter.value,\n",
    ")"
   ]
  },
  {
   "cell_type": "markdown",
   "id": "53537369",
   "metadata": {},
   "source": [
    "## Ranking search results\n",
    "\n",
    "Another way that we can use node centrality is to rank search results.\n",
    "\n",
    "The cell below obtains the GOV.UK pages that have the highest 'degree' centrality.  Are these good enough to use as search results?"
   ]
  },
  {
   "cell_type": "code",
   "execution_count": null,
   "id": "595c0acf",
   "metadata": {},
   "outputs": [],
   "source": [
    "top_results_by_degree = top_nodes(\n",
    "    edges,\n",
    "    search_term=search_term.value,\n",
    "    centrality_algorithm=\"degree\",\n",
    "    number_of_results=10,\n",
    ")\n",
    "top_results_by_degree"
   ]
  },
  {
   "cell_type": "markdown",
   "id": "867d101d",
   "metadata": {},
   "source": [
    "'Degree' centrality isn't the only way to measure the importance of a node.  Try using Google's 'pagerank' algorithm by changing the value of the `centrality_algorithm` in the code below.  How are these results different from the ones obtained by 'degree' centrality?"
   ]
  },
  {
   "cell_type": "code",
   "execution_count": null,
   "id": "647d6ddb",
   "metadata": {},
   "outputs": [],
   "source": [
    "top_results_by_pagerank = top_nodes(\n",
    "    edges,\n",
    "    search_term=search_term.value,\n",
    "    centrality_algorithm=\"pagerank\",\n",
    "    number_of_results=10,\n",
    ")\n",
    "top_results_by_pagerank"
   ]
  },
  {
   "cell_type": "markdown",
   "id": "df2e7928",
   "metadata": {},
   "source": [
    "## Jaccard: how similar are two sets of search results?\n",
    "\n",
    "We have compared two different sets of search results by eye.  Is there some kind of similarity score we can calculate instead?  A number that is high when the results are similar, and low when they are dissimilar?\n",
    "\n",
    "### Definition\n",
    "\n",
    "Jaccard similarity is the amount of overlap between two sets of items.  It is the number of items in common, divided by the number of items that are different.\n",
    "\n",
    "$$\\mathrm{Jaccard} = {\\mathrm{number \\space of \\space items \\space in \\space common}\\over\\mathrm{number \\space of \\space items \\space not \\space in \\space common}}$$\n",
    "\n",
    "### Code\n",
    "\n",
    "You can find the mathematical definition of Jaccard similarity on [Wikipedia](https://en.wikipedia.org/wiki/Jaccard_index) and [StackOverflow](https://stackoverflow.com/a/47016862/937932).  Another way to understand it is to implement it in code, as below."
   ]
  },
  {
   "cell_type": "code",
   "execution_count": null,
   "id": "87548126",
   "metadata": {},
   "outputs": [],
   "source": [
    "def jaccard(set_1, set_2):\n",
    "\n",
    "    # Ensure that set_1 and set_2 are python set objects, not merely list objects\n",
    "    set_1 = set(set_1)\n",
    "    set_2 = set(set_2)\n",
    "\n",
    "    intersection = set_1 & set_2  # One of each thing that appears in both sets\n",
    "    union = set_1 | set_2  # One of each thing that appears in either set\n",
    "\n",
    "    jaccard = float(len(intersection) / len(union))\n",
    "\n",
    "    # Calculate the Jaccard index\n",
    "    print(\n",
    "        \"\\nIntersection: \" + str(len(intersection)) + \"\\n  \" + \"\\n  \".join(intersection)\n",
    "    )\n",
    "    print(\"\\nUnion: \" + str(len(union)) + \"\\n  \" + \"\\n  \".join(union))\n",
    "    print(\"\\nJaccard:\\n  \" + str(jaccard))"
   ]
  },
  {
   "cell_type": "markdown",
   "id": "c275b201",
   "metadata": {},
   "source": [
    "Now use the jaccard function to compare two sets of things.  Instead of comparing sets of URLs, we use single letters, to make it easier to understand what the code is doing."
   ]
  },
  {
   "cell_type": "code",
   "execution_count": null,
   "id": "dcff185d",
   "metadata": {},
   "outputs": [],
   "source": [
    "set_1 = set([\"c\", \"a\", \"t\"])  # A set of things\n",
    "set_2 = set([\"m\", \"a\", \"t\"])  # Another set of things\n",
    "\n",
    "jaccard(set_1, set_2)"
   ]
  },
  {
   "cell_type": "markdown",
   "id": "aab66669",
   "metadata": {},
   "source": [
    "### Checking the code\n",
    "\n",
    "Check that the result 2.0 is correct, by doing the calculation by hand.\n",
    "\n",
    "* **Intersection**: letters 'a' and 't' are in both sets.  So the intersection is 2 (two letters).\n",
    "* **Union**: there are four letters in total 'c', 'a', 't' and 'm'.  Each letter is counted only once, even though letters 'a' and 't' appear twice each.\n",
    "\n",
    "The Jaccard index is the size of the intersection, 2, divided by the size of the union, 4.  The result is 0.5, the same as the code calculated."
   ]
  },
  {
   "cell_type": "markdown",
   "id": "4ed26afc",
   "metadata": {},
   "source": [
    "Try calculating the Jaccard index of different sets.  For example, change `['c', 'a', 't']` to `'['c', 'a', 't', 's']` or `['c', 'a', 'r']`.  Can you get a score above 1?  What about a negative score?"
   ]
  },
  {
   "cell_type": "markdown",
   "id": "efbc187c",
   "metadata": {},
   "source": [
    "### Comparing the results of 'degree' and 'pagerank' centrality"
   ]
  },
  {
   "cell_type": "markdown",
   "id": "0687ae66",
   "metadata": {},
   "source": [
    "Now we can create a score for how similar the 'degree' centrality search results are to the 'pagerank' centrality ones.\n",
    "\n",
    "First, a reminder of what the results were.  Roughly what score would you expect?"
   ]
  },
  {
   "cell_type": "code",
   "execution_count": null,
   "id": "9a7e565d",
   "metadata": {},
   "outputs": [],
   "source": [
    "top_results_by_degree"
   ]
  },
  {
   "cell_type": "code",
   "execution_count": null,
   "id": "63b9fb65",
   "metadata": {},
   "outputs": [],
   "source": [
    "top_results_by_pagerank"
   ]
  },
  {
   "cell_type": "markdown",
   "id": "33a7dea8",
   "metadata": {},
   "source": [
    "Now compare the results with Jaccard."
   ]
  },
  {
   "cell_type": "code",
   "execution_count": null,
   "id": "40ececdb",
   "metadata": {},
   "outputs": [],
   "source": [
    "jaccard(top_results_by_degree.url, top_results_by_pagerank.url)"
   ]
  },
  {
   "cell_type": "markdown",
   "id": "0081a72f",
   "metadata": {},
   "source": [
    "Six of the top 10 results of each method are the same -- not bad, considering that the 'degree' centrality is much more straightforward to calculate than the pagerank."
   ]
  },
  {
   "cell_type": "markdown",
   "id": "165a0cf0",
   "metadata": {},
   "source": [
    "### Compare with actual GOV.UK search\n",
    "\n",
    "The real GOV.UK search function uses [ElasticSearch](https://www.elastic.co/elastic-stack/) with some modifications, notably a [Learn to Rank algorithm](https://docs.publishing.service.gov.uk/apps/search-api/arch/adr-010-learn-to-rank.html).  How do its search results compare with the ones obtained with 'degree' and 'pagerank' centrality?"
   ]
  },
  {
   "cell_type": "code",
   "execution_count": null,
   "id": "b16d820b",
   "metadata": {},
   "outputs": [],
   "source": [
    "govuk_results = govuk_search(search_term=\"childcare\", number_of_results=10)\n",
    "govuk_results"
   ]
  },
  {
   "cell_type": "markdown",
   "id": "5ba09b70",
   "metadata": {},
   "source": [
    "Jaccard can only compare pairs of results, so we have to use it twice: between 'govuk' and 'degree', and between 'govuk' and 'pagerank'."
   ]
  },
  {
   "cell_type": "code",
   "execution_count": null,
   "id": "16414edd",
   "metadata": {},
   "outputs": [],
   "source": [
    "jaccard(govuk_results.url, top_results_by_degree.url)"
   ]
  },
  {
   "cell_type": "code",
   "execution_count": null,
   "id": "05a3aa44",
   "metadata": {},
   "outputs": [],
   "source": [
    "jaccard(govuk_results.url, top_results_by_pagerank.url)"
   ]
  },
  {
   "cell_type": "markdown",
   "id": "75799192",
   "metadata": {},
   "source": [
    "### Comparing search with itself\n",
    "\n",
    "The GOV.UK search algorithm seems much more sophisticated than the 'degree' and 'pagerank' ones we built ourselves.  \n",
    "Let's test it against itself by trying to trick it.  How does it cope with plurals, or misspellings? Do they return similar results?"
   ]
  },
  {
   "cell_type": "code",
   "execution_count": null,
   "id": "48c5c3f9",
   "metadata": {},
   "outputs": [],
   "source": [
    "jaccard(govuk_search(\"benifit\", 10).url, govuk_search(\"benefits\", 10).url)"
   ]
  },
  {
   "cell_type": "markdown",
   "id": "e3eb6571",
   "metadata": {},
   "source": [
    "## Review\n",
    "\n",
    "That's the end of this exercise.  In it, you learned:\n",
    "\n",
    "- What GOV.UK looks like as a network\n",
    "- The effect of different clustering algorithms\n",
    "- Two algorithms to calculate the importance of a node\n",
    "- How to compare sets of search results with the Jaccard score\n",
    "\n",
    "Hopefully next time you encounter search results you will think about:\n",
    "\n",
    "- How the results might have been obtained\n",
    "- What makes results relevant\n",
    "- Whether a single algorithm can ever be the best at everything"
   ]
  }
 ],
 "metadata": {
  "language_info": {
   "codemirror_mode": {
    "name": "ipython",
    "version": 3
   },
   "file_extension": ".py",
   "mimetype": "text/x-python",
   "name": "python",
   "nbconvert_exporter": "python",
   "pygments_lexer": "ipython3",
   "version": "3.9.7"
  }
 },
 "nbformat": 4,
 "nbformat_minor": 5
}
