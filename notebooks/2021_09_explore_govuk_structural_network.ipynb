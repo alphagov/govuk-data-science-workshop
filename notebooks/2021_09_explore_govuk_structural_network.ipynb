{
 "cells": [
  {
   "cell_type": "markdown",
   "id": "0fd5fb24",
   "metadata": {},
   "source": [
    "# What is a Jupyter notebook?\n",
    "\n",
    "A Jupyter notebook is a way for you write and execute Python in your web browser.  It's easy to interleave text, code, and the outputs of code.  This makes notebooks useful as a kind of interactive textbook.\n",
    "\n",
    "## Getting started\n",
    "\n",
    "The document that you are reading is not a static web page, but an interactive environment called a \"Jupyter notebook\" that lets you write and execute code.\n",
    "\n",
    "For example, below is a code cell with a short Python script that computes a value, stores it in a variable and prints the result."
   ]
  },
  {
   "cell_type": "code",
   "execution_count": null,
   "id": "daf16c4c",
   "metadata": {},
   "outputs": [],
   "source": [
    "seconds_in_a_day = 24 * 60 * 60\n",
    "seconds_in_a_day"
   ]
  },
  {
   "cell_type": "markdown",
   "id": "4fb428e7",
   "metadata": {},
   "source": [
    "To execute the code in the above cell, select it with a click and then either press the play button to the left of the code, or use the keyboard shortcut 'Command/Ctrl+Enter'. To edit the code, just click the cell and start editing.\n",
    "\n",
    "Variables that you define in one cell can later be used in other cells:"
   ]
  },
  {
   "cell_type": "code",
   "execution_count": null,
   "id": "1c541b6a",
   "metadata": {},
   "outputs": [],
   "source": [
    "seconds_in_a_week = 7 * seconds_in_a_day\n",
    "seconds_in_a_week"
   ]
  },
  {
   "cell_type": "markdown",
   "id": "cee4420b",
   "metadata": {},
   "source": [
    "Jupyter notebooks allow you to combine executable code and rich text in a single document, along with images, HTML and more. To find out more about the Jupyter project, see [jupyter.org](https://www.jupyter.org)."
   ]
  },
  {
   "cell_type": "markdown",
   "id": "7ae965fb",
   "metadata": {},
   "source": [
    "## Data science\n",
    "\n",
    "With Jupyter you can harness the full power of popular Python libraries to analyse and visualise data. The code cell below loads in various Python libraries to help us solve some problems that other people have already solved! Here we call a few useful libraries with `import` and even rename some to shorter names, such as `pandas` as `pd`."
   ]
  },
  {
   "cell_type": "code",
   "execution_count": null,
   "id": "bc08e407",
   "metadata": {
    "tags": [
     "{",
     "\"tags\":",
     "[",
     "\"hide-input\"",
     "]",
     "}"
    ]
   },
   "outputs": [],
   "source": [
    "# Based on notesbooks/2021_09_explore_govuk_structural_network.R\n",
    "import os\n",
    "\n",
    "import igraph as ig\n",
    "import matplotlib.pyplot as plt\n",
    "import pandas as pd\n",
    "from igraph import Graph, VertexSeq"
   ]
  },
  {
   "cell_type": "code",
   "execution_count": null,
   "id": "070d584e",
   "metadata": {},
   "outputs": [],
   "source": [
    "# Read the name of the edgelist dataset file from an environment variable.\n",
    "DIR_DATA_RAW = os.getenv(\"DIR_DATA_RAW\")\n",
    "print(DIR_DATA_RAW)"
   ]
  },
  {
   "cell_type": "code",
   "execution_count": null,
   "id": "59f41cae",
   "metadata": {},
   "outputs": [],
   "source": [
    "# Load the edgelist dataset into a pandas data frame\n",
    "edges = pd.read_csv(DIR_DATA_RAW + \"/structural_network_adjacency_list_20190301.csv\")"
   ]
  },
  {
   "cell_type": "code",
   "execution_count": null,
   "id": "d633c9a3",
   "metadata": {},
   "outputs": [],
   "source": [
    "# Filter for pages whose URLs contain the word 'brexit'\n",
    "search_string = \"brexit\"\n",
    "brexit_edges = edges[\n",
    "    (edges.source_base_path.str.contains(search_string))\n",
    "    & (edges.sink_base_path.str.contains(search_string))\n",
    "]"
   ]
  },
  {
   "cell_type": "code",
   "execution_count": null,
   "id": "43f26360",
   "metadata": {},
   "outputs": [],
   "source": [
    "# Construct a graph object from the edges\n",
    "g = Graph.DataFrame(brexit_edges, directed=True)"
   ]
  },
  {
   "cell_type": "code",
   "execution_count": null,
   "id": "96dea12b",
   "metadata": {},
   "outputs": [],
   "source": [
    "# The graph has one big component, and many small ones\n",
    "# that are disconnected from the big one.\n",
    "# Keep only the largest component.\n",
    "components = g.clusters(mode=\"weak\")\n",
    "brexit = components.giant()"
   ]
  },
  {
   "cell_type": "code",
   "execution_count": null,
   "id": "a91077a6",
   "metadata": {},
   "outputs": [],
   "source": [
    "# Detect communities within the graph.  The spinglass\n",
    "# algorithm allows for a maximum number of communities\n",
    "# to be set.  It might detect fewer than this, but it\n",
    "# won't detect more.  Every node (every page) will be\n",
    "# assigned to exactly one community.\n",
    "communities = brexit.community_spinglass(spins=5)"
   ]
  },
  {
   "cell_type": "code",
   "execution_count": null,
   "id": "8ea3d29c",
   "metadata": {},
   "outputs": [],
   "source": [
    "# Visualise the graph.  Colour each node (each page)\n",
    "# according to the community that it belongs to.\n",
    "pal = ig.drawing.colors.ClusterColoringPalette(len(communities))\n",
    "brexit.vs[\"color\"] = pal.get_many(communities.membership)\n",
    "ig.plot(brexit)"
   ]
  },
  {
   "cell_type": "code",
   "execution_count": null,
   "id": "5f58dc7e",
   "metadata": {},
   "outputs": [],
   "source": [
    "# Calculate the degree of each node (each page).  The\n",
    "# degree is the number of edges into and out of the\n",
    "# node.\n",
    "degrees = [v.degree() for v in VertexSeq(brexit)]"
   ]
  },
  {
   "cell_type": "code",
   "execution_count": null,
   "id": "778b59fe",
   "metadata": {},
   "outputs": [],
   "source": [
    "# Visualise the graph again, this time labelling each\n",
    "# node with its degree.\n",
    "ig.plot(brexit, vertex_label=degrees)"
   ]
  },
  {
   "cell_type": "code",
   "execution_count": null,
   "id": "1c7a03a1",
   "metadata": {},
   "outputs": [],
   "source": [
    "# Visualise the graph again, this time labelling each\n",
    "# node with its degree, and sizing each node by its\n",
    "# degree too.  This reveals a handful of nodes of\n",
    "# high degree.\n",
    "ig.plot(brexit, vertex_label=degrees, vertex_size=degrees)"
   ]
  }
 ],
 "metadata": {
  "language_info": {
   "codemirror_mode": {
    "name": "ipython",
    "version": 3
   },
   "file_extension": ".py",
   "mimetype": "text/x-python",
   "name": "python",
   "nbconvert_exporter": "python",
   "pygments_lexer": "ipython3",
   "version": "3.9.7"
  }
 },
 "nbformat": 4,
 "nbformat_minor": 5
}
